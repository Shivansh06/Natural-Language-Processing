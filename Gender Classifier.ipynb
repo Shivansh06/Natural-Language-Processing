{
 "cells": [
  {
   "cell_type": "markdown",
   "metadata": {},
   "source": [
    "# PREDICTING THE GENDER OF PEOPLE GIVEN THEIR NAMES "
   ]
  },
  {
   "cell_type": "code",
   "execution_count": 192,
   "metadata": {},
   "outputs": [],
   "source": [
    "import nltk\n",
    "from nltk.corpus import names\n",
    "import random"
   ]
  },
  {
   "cell_type": "code",
   "execution_count": 193,
   "metadata": {},
   "outputs": [],
   "source": [
    "def gender_feature(name):\n",
    "    name=name.lower()\n",
    "    return {'prefix1':name[:3],'suffix1':name[-2:],'first_letter':name[0],'last_letter':name[-1]}"
   ]
  },
  {
   "cell_type": "markdown",
   "metadata": {},
   "source": [
    "# 0. Preparing the datasets"
   ]
  },
  {
   "cell_type": "code",
   "execution_count": 195,
   "metadata": {},
   "outputs": [],
   "source": [
    "names=([(name,'male') for name in names.words('male.txt')]+[(name,'female') for name in names.words('female.txt')])"
   ]
  },
  {
   "cell_type": "code",
   "execution_count": 196,
   "metadata": {},
   "outputs": [],
   "source": [
    "random.shuffle(names)"
   ]
  },
  {
   "cell_type": "code",
   "execution_count": 197,
   "metadata": {},
   "outputs": [],
   "source": [
    "train_set=names[1000:1500]+names[2000:]\n",
    "dev_set=names[500:1000]+names[1500:2000]\n",
    "test_set=names[:500]\n",
    "train_set=[(gender_feature(name),gender) for (name,gender) in names] \n",
    "test_set=[(gender_feature(name),gender) for (name,gender) in names]"
   ]
  },
  {
   "cell_type": "markdown",
   "metadata": {},
   "source": [
    "# 1. Training the model  "
   ]
  },
  {
   "cell_type": "code",
   "execution_count": 199,
   "metadata": {},
   "outputs": [],
   "source": [
    "classifier=nltk.NaiveBayesClassifier.train(train_set)"
   ]
  },
  {
   "cell_type": "code",
   "execution_count": 201,
   "metadata": {},
   "outputs": [
    {
     "name": "stdout",
     "output_type": "stream",
     "text": [
      "128\n"
     ]
    }
   ],
   "source": [
    "#using the developmemt set to imporve our model\n",
    "errors=[]\n",
    "for (name,tag) in dev_set:\n",
    "    guess=classifier.classify(gender_feature(name))\n",
    "    if guess!=tag:\n",
    "        errors.append((tag,guess,name))\n",
    "print(len(errors))"
   ]
  },
  {
   "cell_type": "code",
   "execution_count": 217,
   "metadata": {},
   "outputs": [
    {
     "name": "stdout",
     "output_type": "stream",
     "text": [
      "Correct=female    Guess=male              Name=Agnes                   \n",
      "Correct=female    Guess=male              Name=Astrid                  \n",
      "Correct=female    Guess=male              Name=Barby                   \n",
      "Correct=female    Guess=male              Name=Beatrix                 \n",
      "Correct=female    Guess=male              Name=Bev                     \n",
      "Correct=female    Guess=male              Name=Bird                    \n",
      "Correct=female    Guess=male              Name=Blair                   \n",
      "Correct=female    Guess=male              Name=Brier                   \n",
      "Correct=female    Guess=male              Name=Brit                    \n",
      "Correct=female    Guess=male              Name=Brooke                  \n",
      "Correct=female    Guess=male              Name=Brooks                  \n",
      "Correct=female    Guess=male              Name=Brynn                   \n",
      "Correct=female    Guess=male              Name=Caitlin                 \n",
      "Correct=female    Guess=male              Name=Caitrin                 \n",
      "Correct=female    Guess=male              Name=Chris                   \n",
      "Correct=female    Guess=male              Name=Chrysler                \n",
      "Correct=female    Guess=male              Name=Daveen                  \n",
      "Correct=female    Guess=male              Name=Devan                   \n",
      "Correct=female    Guess=male              Name=Devon                   \n",
      "Correct=female    Guess=male              Name=Ealasaid                \n",
      "Correct=female    Guess=male              Name=Elizabet                \n",
      "Correct=female    Guess=male              Name=Francis                 \n",
      "Correct=female    Guess=male              Name=Franky                  \n",
      "Correct=female    Guess=male              Name=Gail                    \n",
      "Correct=female    Guess=male              Name=Garland                 \n",
      "Correct=female    Guess=male              Name=Garnet                  \n",
      "Correct=female    Guess=male              Name=Gay                     \n",
      "Correct=female    Guess=male              Name=Gaynor                  \n",
      "Correct=female    Guess=male              Name=Georgiamay              \n",
      "Correct=female    Guess=male              Name=Gert                    \n",
      "Correct=female    Guess=male              Name=Harmony                 \n",
      "Correct=female    Guess=male              Name=Harriot                 \n",
      "Correct=female    Guess=male              Name=Hayley                  \n",
      "Correct=female    Guess=male              Name=Heather                 \n",
      "Correct=female    Guess=male              Name=Hillary                 \n",
      "Correct=female    Guess=male              Name=Ike                     \n",
      "Correct=female    Guess=male              Name=Inez                    \n",
      "Correct=female    Guess=male              Name=Jazmin                  \n",
      "Correct=female    Guess=male              Name=Jerry                   \n",
      "Correct=female    Guess=male              Name=Joyous                  \n",
      "Correct=female    Guess=male              Name=Lamb                    \n",
      "Correct=female    Guess=male              Name=Lynett                  \n",
      "Correct=female    Guess=male              Name=Margalo                 \n",
      "Correct=female    Guess=male              Name=Margo                   \n",
      "Correct=female    Guess=male              Name=Marion                  \n",
      "Correct=female    Guess=male              Name=Michel                  \n",
      "Correct=female    Guess=male              Name=Micky                   \n",
      "Correct=female    Guess=male              Name=Mignon                  \n",
      "Correct=female    Guess=male              Name=Mikako                  \n",
      "Correct=female    Guess=male              Name=Milicent                \n",
      "Correct=female    Guess=male              Name=Nil                     \n",
      "Correct=female    Guess=male              Name=Norean                  \n",
      "Correct=female    Guess=male              Name=Page                    \n",
      "Correct=female    Guess=male              Name=Parwane                 \n",
      "Correct=female    Guess=male              Name=Patty                   \n",
      "Correct=female    Guess=male              Name=Pen                     \n",
      "Correct=female    Guess=male              Name=Pris                    \n",
      "Correct=female    Guess=male              Name=Quinn                   \n",
      "Correct=female    Guess=male              Name=Rahal                   \n",
      "Correct=female    Guess=male              Name=Regan                   \n",
      "Correct=female    Guess=male              Name=Sharon                  \n",
      "Correct=female    Guess=male              Name=Shelagh                 \n",
      "Correct=female    Guess=male              Name=Shelby                  \n",
      "Correct=female    Guess=male              Name=Stacey                  \n",
      "Correct=female    Guess=male              Name=Stoddard                \n",
      "Correct=female    Guess=male              Name=Sydney                  \n",
      "Correct=female    Guess=male              Name=Tally                   \n",
      "Correct=female    Guess=male              Name=Tamar                   \n",
      "Correct=female    Guess=male              Name=Tamiko                  \n",
      "Correct=female    Guess=male              Name=Tatum                   \n",
      "Correct=female    Guess=male              Name=Van                     \n",
      "Correct=female    Guess=male              Name=Yehudit                 \n",
      "Correct=male      Guess=female            Name=Aditya                  \n",
      "Correct=male      Guess=female            Name=Allen                   \n",
      "Correct=male      Guess=female            Name=Anatol                  \n",
      "Correct=male      Guess=female            Name=Anatole                 \n",
      "Correct=male      Guess=female            Name=Andri                   \n",
      "Correct=male      Guess=female            Name=Ashby                   \n",
      "Correct=male      Guess=female            Name=Augustine               \n",
      "Correct=male      Guess=female            Name=Beale                   \n",
      "Correct=male      Guess=female            Name=Bealle                  \n",
      "Correct=male      Guess=female            Name=Bela                    \n",
      "Correct=male      Guess=female            Name=Bobbie                  \n",
      "Correct=male      Guess=female            Name=Carl                    \n",
      "Correct=male      Guess=female            Name=Cat                     \n",
      "Correct=male      Guess=female            Name=Chaddy                  \n",
      "Correct=male      Guess=female            Name=Chane                   \n",
      "Correct=male      Guess=female            Name=Charley                 \n",
      "Correct=male      Guess=female            Name=Charlie                 \n",
      "Correct=male      Guess=female            Name=Constantine             \n",
      "Correct=male      Guess=female            Name=Courtney                \n",
      "Correct=male      Guess=female            Name=Daffy                   \n",
      "Correct=male      Guess=female            Name=Dale                    \n",
      "Correct=male      Guess=female            Name=Darcy                   \n",
      "Correct=male      Guess=female            Name=Donnie                  \n",
      "Correct=male      Guess=female            Name=Earle                   \n",
      "Correct=male      Guess=female            Name=Emmy                    \n",
      "Correct=male      Guess=female            Name=Eustace                 \n",
      "Correct=male      Guess=female            Name=Felipe                  \n",
      "Correct=male      Guess=female            Name=Gayle                   \n",
      "Correct=male      Guess=female            Name=Gerome                  \n",
      "Correct=male      Guess=female            Name=Glen                    \n",
      "Correct=male      Guess=female            Name=Godfree                 \n",
      "Correct=male      Guess=female            Name=Guillaume               \n",
      "Correct=male      Guess=female            Name=Isaiah                  \n",
      "Correct=male      Guess=female            Name=Jermaine                \n",
      "Correct=male      Guess=female            Name=Karl                    \n",
      "Correct=male      Guess=female            Name=Kellen                  \n",
      "Correct=male      Guess=female            Name=Lance                   \n",
      "Correct=male      Guess=female            Name=Lindy                   \n",
      "Correct=male      Guess=female            Name=Luce                    \n",
      "Correct=male      Guess=female            Name=Lucien                  \n",
      "Correct=male      Guess=female            Name=Marlin                  \n",
      "Correct=male      Guess=female            Name=Marmaduke               \n",
      "Correct=male      Guess=female            Name=Marten                  \n",
      "Correct=male      Guess=female            Name=Melvyn                  \n",
      "Correct=male      Guess=female            Name=Morlee                  \n",
      "Correct=male      Guess=female            Name=Pate                    \n",
      "Correct=male      Guess=female            Name=Rube                    \n",
      "Correct=male      Guess=female            Name=See                     \n",
      "Correct=male      Guess=female            Name=Shawn                   \n",
      "Correct=male      Guess=female            Name=Sibyl                   \n",
      "Correct=male      Guess=female            Name=Sidnee                  \n",
      "Correct=male      Guess=female            Name=Tannie                  \n",
      "Correct=male      Guess=female            Name=Tonnie                  \n",
      "Correct=male      Guess=female            Name=Tremaine                \n",
      "Correct=male      Guess=female            Name=Vale                    \n",
      "Correct=male      Guess=female            Name=Valentin                \n"
     ]
    }
   ],
   "source": [
    "for error in sorted(errors):\n",
    "    tag,guess,name=error\n",
    "    print(\"Correct=%-8s  Guess=%-16s  Name=%-24s\" % (tag,guess,name))"
   ]
  },
  {
   "cell_type": "markdown",
   "metadata": {},
   "source": [
    "# 2. Testing the model on the test set"
   ]
  },
  {
   "cell_type": "code",
   "execution_count": 218,
   "metadata": {},
   "outputs": [
    {
     "name": "stdout",
     "output_type": "stream",
     "text": [
      "The accuracy of the model is :  0.8603977844914401\n"
     ]
    }
   ],
   "source": [
    "print('The accuracy of the model is : ',nltk.classify.accuracy(classifier,test_set))"
   ]
  },
  {
   "cell_type": "code",
   "execution_count": 219,
   "metadata": {},
   "outputs": [
    {
     "name": "stdout",
     "output_type": "stream",
     "text": [
      "Shivansh ---> True\n",
      "Yashi ---> True\n",
      "Rahul ---> True\n",
      "Ross ---> False\n",
      "Racheal ---> True\n",
      "Pheobe ---> True\n",
      "Martha ---> True\n",
      "Jonas ---> True\n",
      "Magnus ---> True\n",
      "kriti ---> True\n",
      "Mansi ---> True\n",
      "Satyam ---> True\n",
      "Nipun ---> True\n"
     ]
    }
   ],
   "source": [
    "names=['Shivansh','Yashi','Rahul','Ross','Racheal','Pheobe','Martha','Jonas','Magnus','kriti','Mansi','Satyam','Nipun']\n",
    "actual_gender=['male','female','male','male','female','female','female','male','male','female','female','male','male']\n",
    "for i in range(len(names)):\n",
    "    prediction=classifier.classify(gender_feature(names[i]))\n",
    "    print(names[i],'--->',actual_gender[i]==prediction)"
   ]
  },
  {
   "cell_type": "code",
   "execution_count": null,
   "metadata": {},
   "outputs": [],
   "source": []
  }
 ],
 "metadata": {
  "kernelspec": {
   "display_name": "Python 3",
   "language": "python",
   "name": "python3"
  },
  "language_info": {
   "codemirror_mode": {
    "name": "ipython",
    "version": 3
   },
   "file_extension": ".py",
   "mimetype": "text/x-python",
   "name": "python",
   "nbconvert_exporter": "python",
   "pygments_lexer": "ipython3",
   "version": "3.7.6"
  }
 },
 "nbformat": 4,
 "nbformat_minor": 4
}
