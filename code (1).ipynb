{
 "cells": [
  {
   "cell_type": "code",
   "execution_count": 1,
   "metadata": {},
   "outputs": [
    {
     "name": "stdout",
     "output_type": "stream",
     "text": [
      "Enter the first number : 991\n",
      "Enter the second number : 996\n"
     ]
    }
   ],
   "source": [
    "a=int(input(\"Enter the first number : \"))\n",
    "b=int(input(\"Enter the second number : \"))\n"
   ]
  },
  {
   "cell_type": "code",
   "execution_count": 2,
   "metadata": {},
   "outputs": [],
   "source": [
    "def num_digits(n):\n",
    "    count=0\n",
    "    while n>0:\n",
    "        count=count+1\n",
    "        n=n//10\n",
    "    return count "
   ]
  },
  {
   "cell_type": "code",
   "execution_count": 3,
   "metadata": {},
   "outputs": [],
   "source": [
    "def numb_to_be_subtracted_from(num_of_digits):\n",
    "    return 10**num_of_digits"
   ]
  },
  {
   "cell_type": "code",
   "execution_count": 4,
   "metadata": {},
   "outputs": [
    {
     "name": "stdout",
     "output_type": "stream",
     "text": [
      "digitsa =  3\n",
      "digitsb =  3\n",
      "To subtract from a  9\n",
      "To subtract from b  4\n",
      "Number to be subtracted from b is  9\n",
      "Number to be subtracted from a is  4\n"
     ]
    }
   ],
   "source": [
    "digitsa=num_digits(a)\n",
    "digitsb=num_digits(b)\n",
    "print(\"digitsa = \",digitsa) \n",
    "print(\"digitsb = \",digitsb)\n",
    "to_subtract_from_a=numb_to_be_subtracted_from(digitsa)-a\n",
    "to_subtract_from_b=numb_to_be_subtracted_from(digitsb)-b\n",
    "print(\"To subtract from a \" ,to_subtract_from_a)\n",
    "print(\"To subtract from b \", to_subtract_from_b)\n",
    "\n",
    "print(\"Number to be subtracted from b is \", to_subtract_from_a)\n",
    "print(\"Number to be subtracted from a is \", to_subtract_from_b)"
   ]
  },
  {
   "cell_type": "code",
   "execution_count": 5,
   "metadata": {},
   "outputs": [
    {
     "name": "stdout",
     "output_type": "stream",
     "text": [
      "987036\n"
     ]
    }
   ],
   "source": [
    "first_part=str(a-to_subtract_from_b)\n",
    "ans=first_part\n",
    "product=to_subtract_from_a*to_subtract_from_b\n",
    "digits_product=num_digits(product)\n",
    "num_of_zero=digitsa-num_digits(product)\n",
    "ans=ans+'0'*num_of_zero\n",
    "ans=ans+str(product)\n",
    "print(ans)"
   ]
  },
  {
   "cell_type": "code",
   "execution_count": null,
   "metadata": {},
   "outputs": [],
   "source": []
  },
  {
   "cell_type": "code",
   "execution_count": null,
   "metadata": {},
   "outputs": [],
   "source": []
  }
 ],
 "metadata": {
  "kernelspec": {
   "display_name": "Python 3",
   "language": "python",
   "name": "python3"
  },
  "language_info": {
   "codemirror_mode": {
    "name": "ipython",
    "version": 3
   },
   "file_extension": ".py",
   "mimetype": "text/x-python",
   "name": "python",
   "nbconvert_exporter": "python",
   "pygments_lexer": "ipython3",
   "version": "3.7.6"
  }
 },
 "nbformat": 4,
 "nbformat_minor": 4
}
